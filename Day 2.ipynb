{
 "cells": [
  {
   "cell_type": "code",
   "execution_count": 22,
   "metadata": {},
   "outputs": [
    {
     "name": "stdout",
     "output_type": "stream",
     "text": [
      "2369\n"
     ]
    }
   ],
   "source": [
    "data_file = open(\"data_files/aoc_2.txt\")\n",
    "data = []\n",
    "\n",
    "colour_dict = {\"red\": 12, \"blue\": 14, \"green\": 13}\n",
    "rolling_sum = 0\n",
    "\n",
    "for l in data_file:\n",
    "    invalid_game = False\n",
    "    line = l.replace(\"\\n\",\"\").replace(\":\",\"\").replace(\",\",\"\").replace(\";\",\"\")[5:]\n",
    "    line = line.split()\n",
    "    \n",
    "    for x in range(1, len(line)):\n",
    "        if line[x].isdigit():\n",
    "            continue\n",
    "        if int(line[x-1]) > colour_dict[line[x]]:\n",
    "            invalid_game = True\n",
    "            break\n",
    "    if not invalid_game:\n",
    "        rolling_sum += int(line[0])    \n",
    "print(rolling_sum)"
   ]
  },
  {
   "cell_type": "code",
   "execution_count": 23,
   "metadata": {},
   "outputs": [
    {
     "name": "stdout",
     "output_type": "stream",
     "text": [
      "66363\n"
     ]
    }
   ],
   "source": [
    "data_file = open(\"data_files/aoc_2.txt\")\n",
    "data = []\n",
    "\n",
    "\n",
    "rolling_sum = 0\n",
    "\n",
    "for l in data_file:\n",
    "    colour_dict = {\"red\": 0, \"blue\": 0, \"green\": 0}\n",
    "    line = l.replace(\"\\n\",\"\").replace(\":\",\"\").replace(\",\",\"\").replace(\";\",\"\")[5:]\n",
    "    line = line.split()\n",
    "    \n",
    "    for x in range(1, len(line)):\n",
    "        if line[x].isdigit():\n",
    "            continue\n",
    "        if int(line[x-1]) > colour_dict[line[x]]:\n",
    "            colour_dict[line[x]] = int(line[x-1])    \n",
    "    \n",
    "    rolling_sum += colour_dict[\"red\"] * colour_dict[\"blue\"] * colour_dict[\"green\"]    \n",
    "print(rolling_sum)"
   ]
  },
  {
   "cell_type": "code",
   "execution_count": null,
   "metadata": {},
   "outputs": [],
   "source": []
  }
 ],
 "metadata": {
  "kernelspec": {
   "display_name": "Python 3",
   "language": "python",
   "name": "python3"
  },
  "language_info": {
   "codemirror_mode": {
    "name": "ipython",
    "version": 3
   },
   "file_extension": ".py",
   "mimetype": "text/x-python",
   "name": "python",
   "nbconvert_exporter": "python",
   "pygments_lexer": "ipython3",
   "version": "3.8.10"
  }
 },
 "nbformat": 4,
 "nbformat_minor": 4
}
